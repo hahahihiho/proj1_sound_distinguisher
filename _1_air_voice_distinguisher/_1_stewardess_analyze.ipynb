{
 "cells": [
  {
   "cell_type": "markdown",
   "metadata": {},
   "source": [
    "### 승무원 목소리, 일반인 목소리 학습\n",
    "### 어느정도의 일치율을 보이는지 분석"
   ]
  },
  {
   "cell_type": "code",
   "execution_count": 150,
   "metadata": {},
   "outputs": [],
   "source": [
    "import os\n",
    "from scipy.io import wavfile\n",
    "import array\n",
    "from pydub import AudioSegment\n",
    "from pydub.utils import get_array_type\n",
    "from tqdm import tqdm\n",
    "import csv"
   ]
  },
  {
   "cell_type": "code",
   "execution_count": 48,
   "metadata": {},
   "outputs": [
    {
     "name": "stdout",
     "output_type": "stream",
     "text": [
      "air\n",
      "310.03283446712015\n",
      "604.4850793650794\n",
      "1069.9987301587303\n",
      "546.2029931972789\n",
      "151.41732426303855\n",
      "333.7171882086168\n",
      "153.80897959183673\n",
      "3169.663129251701\n",
      "non_air\n",
      "731.4750113378685\n",
      "629.4233106575964\n",
      "648.6029931972789\n",
      "837.7063038548753\n",
      "630.1199092970521\n",
      "879.7808616780045\n",
      "918.2331065759637\n",
      "1233.2814512471655\n",
      "6508.622947845804\n"
     ]
    }
   ],
   "source": [
    "data_default_path = \"C:/Users/user/desktop/data/sound_data/\"\n",
    "\n",
    "for file_path in os.listdir(data_default_path):\n",
    "    print(file_path)\n",
    "    s_sum = 0\n",
    "    for file in os.listdir(data_default_path+file_path):\n",
    "        file = data_default_path+file_path+'/'+file\n",
    "        data = AudioSegment.from_file(file=file)\n",
    "        sr = 44100\n",
    "        print(data.duration_seconds)\n",
    "        s_sum += data.duration_seconds \n",
    "    print(\"sum : \" + s_sum)"
   ]
  },
  {
   "cell_type": "code",
   "execution_count": 156,
   "metadata": {},
   "outputs": [],
   "source": [
    "file_path = \"sample_1.mp3\"\n",
    "sample = AudioSegment.from_file(file=file_path)"
   ]
  },
  {
   "cell_type": "code",
   "execution_count": 257,
   "metadata": {},
   "outputs": [
    {
     "data": {
      "text/plain": [
       "str"
      ]
     },
     "execution_count": 257,
     "metadata": {},
     "output_type": "execute_result"
    }
   ],
   "source": [
    "type(a.hex())"
   ]
  },
  {
   "cell_type": "code",
   "execution_count": 245,
   "metadata": {},
   "outputs": [
    {
     "data": {
      "text/plain": [
       "b'\\xff\\xf9t\\xf8\\xb5\\xf9U\\xf7\\xd8\\xf8\\x0e\\xf6\\x83\\xf9\\x13\\xf7\\x9e\\xfb/\\xfa-\\xfe\\xc8\\xfdK\\x01U\\x01b\\x02\\x11\\x02\\x15\\x00\\x0f\\xff\\xf0\\xfd\\x92\\xfc\\xf0\\xfd\\xcd\\xfc\\xbc\\xfe\\xd9\\xfd\\x1d\\xff\\xfc\\xfd\\xa3\\xfd0\\xfcn\\xfb<\\xfa\\xd8\\xfc \\xfc\\xe5\\x00\\xe6\\xff|\\x01\\x91\\xff\\x92\\xfe[\\xfc\\xa8\\xfdN\\xfco\\xff\\x06\\xff>\\xff\\xb8\\xfe\\xeb\\xfb\\xaa\\xfa\\xa1\\xfaI\\xf9\\xb0\\xfe4\\xfe\\xbc\\x03-\\x04q\\x04\\xd9\\x04\\x92\\x01\\xb1\\x00\\x89\\xfe\\xdd\\xfb\\xf1\\xfcn\\xf9\\xe7\\xfdo\\xfb\\x8d\\x01\\t\\x01\\x15\\x04O\\x04\\xe5\\x01 \\x01m\\xfe\\xd4\\xfc\\xf0\\xfeQ\\xfe\\x7f\\x01\\x8a\\x02\\x8a\\x01\\x94\\x02N\\xffi\\xfeS\\xfd\\x9c\\xfa\\xc0\\xfd\\xf5\\xfa\\xac\\x01&\\x00\\xc6\\x05u\\x05\\x10\\x05\\xfb\\x04'"
      ]
     },
     "execution_count": 245,
     "metadata": {},
     "output_type": "execute_result"
    }
   ],
   "source": [
    "a = sample[1000].raw_data\n",
    "a\n",
    "# a.decode('utf-8', \"ignore\")"
   ]
  },
  {
   "cell_type": "code",
   "execution_count": 393,
   "metadata": {},
   "outputs": [],
   "source": [
    "import struct\n",
    "sample_buff = struct.unpack('H'*(len(a.hex())),a*4)"
   ]
  },
  {
   "cell_type": "code",
   "execution_count": 388,
   "metadata": {},
   "outputs": [
    {
     "data": {
      "text/plain": [
       "int"
      ]
     },
     "execution_count": 388,
     "metadata": {},
     "output_type": "execute_result"
    }
   ],
   "source": [
    "type(len(a))"
   ]
  },
  {
   "cell_type": "code",
   "execution_count": 394,
   "metadata": {},
   "outputs": [
    {
     "data": {
      "text/plain": [
       "(63999,\n",
       " 63604,\n",
       " 63925,\n",
       " 63317,\n",
       " 63704,\n",
       " 62990,\n",
       " 63875,\n",
       " 63251,\n",
       " 64414,\n",
       " 64047,\n",
       " 65069,\n",
       " 64968,\n",
       " 331,\n",
       " 341,\n",
       " 610,\n",
       " 529,\n",
       " 21,\n",
       " 65295,\n",
       " 65008,\n",
       " 64658,\n",
       " 65008,\n",
       " 64717,\n",
       " 65212,\n",
       " 64985,\n",
       " 65309,\n",
       " 65020,\n",
       " 64931,\n",
       " 64560,\n",
       " 64366,\n",
       " 64060,\n",
       " 64728,\n",
       " 64544,\n",
       " 229,\n",
       " 65510,\n",
       " 380,\n",
       " 65425,\n",
       " 65170,\n",
       " 64603,\n",
       " 64936,\n",
       " 64590,\n",
       " 65391,\n",
       " 65286,\n",
       " 65342,\n",
       " 65208,\n",
       " 64491,\n",
       " 64170,\n",
       " 64161,\n",
       " 63817,\n",
       " 65200,\n",
       " 65076,\n",
       " 956,\n",
       " 1069,\n",
       " 1137,\n",
       " 1241,\n",
       " 402,\n",
       " 177,\n",
       " 65161,\n",
       " 64477,\n",
       " 64753,\n",
       " 63854,\n",
       " 64999,\n",
       " 64367,\n",
       " 397,\n",
       " 265,\n",
       " 1045,\n",
       " 1103,\n",
       " 485,\n",
       " 288,\n",
       " 65133,\n",
       " 64724,\n",
       " 65264,\n",
       " 65105,\n",
       " 383,\n",
       " 650,\n",
       " 394,\n",
       " 660,\n",
       " 65358,\n",
       " 65129,\n",
       " 64851,\n",
       " 64156,\n",
       " 64960,\n",
       " 64245,\n",
       " 428,\n",
       " 38,\n",
       " 1478,\n",
       " 1397,\n",
       " 1296,\n",
       " 1275,\n",
       " 63999,\n",
       " 63604,\n",
       " 63925,\n",
       " 63317,\n",
       " 63704,\n",
       " 62990,\n",
       " 63875,\n",
       " 63251,\n",
       " 64414,\n",
       " 64047,\n",
       " 65069,\n",
       " 64968,\n",
       " 331,\n",
       " 341,\n",
       " 610,\n",
       " 529,\n",
       " 21,\n",
       " 65295,\n",
       " 65008,\n",
       " 64658,\n",
       " 65008,\n",
       " 64717,\n",
       " 65212,\n",
       " 64985,\n",
       " 65309,\n",
       " 65020,\n",
       " 64931,\n",
       " 64560,\n",
       " 64366,\n",
       " 64060,\n",
       " 64728,\n",
       " 64544,\n",
       " 229,\n",
       " 65510,\n",
       " 380,\n",
       " 65425,\n",
       " 65170,\n",
       " 64603,\n",
       " 64936,\n",
       " 64590,\n",
       " 65391,\n",
       " 65286,\n",
       " 65342,\n",
       " 65208,\n",
       " 64491,\n",
       " 64170,\n",
       " 64161,\n",
       " 63817,\n",
       " 65200,\n",
       " 65076,\n",
       " 956,\n",
       " 1069,\n",
       " 1137,\n",
       " 1241,\n",
       " 402,\n",
       " 177,\n",
       " 65161,\n",
       " 64477,\n",
       " 64753,\n",
       " 63854,\n",
       " 64999,\n",
       " 64367,\n",
       " 397,\n",
       " 265,\n",
       " 1045,\n",
       " 1103,\n",
       " 485,\n",
       " 288,\n",
       " 65133,\n",
       " 64724,\n",
       " 65264,\n",
       " 65105,\n",
       " 383,\n",
       " 650,\n",
       " 394,\n",
       " 660,\n",
       " 65358,\n",
       " 65129,\n",
       " 64851,\n",
       " 64156,\n",
       " 64960,\n",
       " 64245,\n",
       " 428,\n",
       " 38,\n",
       " 1478,\n",
       " 1397,\n",
       " 1296,\n",
       " 1275,\n",
       " 63999,\n",
       " 63604,\n",
       " 63925,\n",
       " 63317,\n",
       " 63704,\n",
       " 62990,\n",
       " 63875,\n",
       " 63251,\n",
       " 64414,\n",
       " 64047,\n",
       " 65069,\n",
       " 64968,\n",
       " 331,\n",
       " 341,\n",
       " 610,\n",
       " 529,\n",
       " 21,\n",
       " 65295,\n",
       " 65008,\n",
       " 64658,\n",
       " 65008,\n",
       " 64717,\n",
       " 65212,\n",
       " 64985,\n",
       " 65309,\n",
       " 65020,\n",
       " 64931,\n",
       " 64560,\n",
       " 64366,\n",
       " 64060,\n",
       " 64728,\n",
       " 64544,\n",
       " 229,\n",
       " 65510,\n",
       " 380,\n",
       " 65425,\n",
       " 65170,\n",
       " 64603,\n",
       " 64936,\n",
       " 64590,\n",
       " 65391,\n",
       " 65286,\n",
       " 65342,\n",
       " 65208,\n",
       " 64491,\n",
       " 64170,\n",
       " 64161,\n",
       " 63817,\n",
       " 65200,\n",
       " 65076,\n",
       " 956,\n",
       " 1069,\n",
       " 1137,\n",
       " 1241,\n",
       " 402,\n",
       " 177,\n",
       " 65161,\n",
       " 64477,\n",
       " 64753,\n",
       " 63854,\n",
       " 64999,\n",
       " 64367,\n",
       " 397,\n",
       " 265,\n",
       " 1045,\n",
       " 1103,\n",
       " 485,\n",
       " 288,\n",
       " 65133,\n",
       " 64724,\n",
       " 65264,\n",
       " 65105,\n",
       " 383,\n",
       " 650,\n",
       " 394,\n",
       " 660,\n",
       " 65358,\n",
       " 65129,\n",
       " 64851,\n",
       " 64156,\n",
       " 64960,\n",
       " 64245,\n",
       " 428,\n",
       " 38,\n",
       " 1478,\n",
       " 1397,\n",
       " 1296,\n",
       " 1275,\n",
       " 63999,\n",
       " 63604,\n",
       " 63925,\n",
       " 63317,\n",
       " 63704,\n",
       " 62990,\n",
       " 63875,\n",
       " 63251,\n",
       " 64414,\n",
       " 64047,\n",
       " 65069,\n",
       " 64968,\n",
       " 331,\n",
       " 341,\n",
       " 610,\n",
       " 529,\n",
       " 21,\n",
       " 65295,\n",
       " 65008,\n",
       " 64658,\n",
       " 65008,\n",
       " 64717,\n",
       " 65212,\n",
       " 64985,\n",
       " 65309,\n",
       " 65020,\n",
       " 64931,\n",
       " 64560,\n",
       " 64366,\n",
       " 64060,\n",
       " 64728,\n",
       " 64544,\n",
       " 229,\n",
       " 65510,\n",
       " 380,\n",
       " 65425,\n",
       " 65170,\n",
       " 64603,\n",
       " 64936,\n",
       " 64590,\n",
       " 65391,\n",
       " 65286,\n",
       " 65342,\n",
       " 65208,\n",
       " 64491,\n",
       " 64170,\n",
       " 64161,\n",
       " 63817,\n",
       " 65200,\n",
       " 65076,\n",
       " 956,\n",
       " 1069,\n",
       " 1137,\n",
       " 1241,\n",
       " 402,\n",
       " 177,\n",
       " 65161,\n",
       " 64477,\n",
       " 64753,\n",
       " 63854,\n",
       " 64999,\n",
       " 64367,\n",
       " 397,\n",
       " 265,\n",
       " 1045,\n",
       " 1103,\n",
       " 485,\n",
       " 288,\n",
       " 65133,\n",
       " 64724,\n",
       " 65264,\n",
       " 65105,\n",
       " 383,\n",
       " 650,\n",
       " 394,\n",
       " 660,\n",
       " 65358,\n",
       " 65129,\n",
       " 64851,\n",
       " 64156,\n",
       " 64960,\n",
       " 64245,\n",
       " 428,\n",
       " 38,\n",
       " 1478,\n",
       " 1397,\n",
       " 1296,\n",
       " 1275)"
      ]
     },
     "execution_count": 394,
     "metadata": {},
     "output_type": "execute_result"
    }
   ],
   "source": [
    "sample_buff"
   ]
  },
  {
   "cell_type": "code",
   "execution_count": 392,
   "metadata": {},
   "outputs": [
    {
     "data": {
      "text/plain": [
       "(63999,\n",
       " 63604,\n",
       " 63925,\n",
       " 63317,\n",
       " 63704,\n",
       " 62990,\n",
       " 63875,\n",
       " 63251,\n",
       " 64414,\n",
       " 64047,\n",
       " 65069,\n",
       " 64968,\n",
       " 331,\n",
       " 341,\n",
       " 610,\n",
       " 529,\n",
       " 21,\n",
       " 65295,\n",
       " 65008,\n",
       " 64658,\n",
       " 65008,\n",
       " 64717,\n",
       " 65212,\n",
       " 64985,\n",
       " 65309,\n",
       " 65020,\n",
       " 64931,\n",
       " 64560,\n",
       " 64366,\n",
       " 64060,\n",
       " 64728,\n",
       " 64544,\n",
       " 229,\n",
       " 65510,\n",
       " 380,\n",
       " 65425,\n",
       " 65170,\n",
       " 64603,\n",
       " 64936,\n",
       " 64590,\n",
       " 65391,\n",
       " 65286,\n",
       " 65342,\n",
       " 65208,\n",
       " 64491,\n",
       " 64170,\n",
       " 64161,\n",
       " 63817,\n",
       " 65200,\n",
       " 65076,\n",
       " 956,\n",
       " 1069,\n",
       " 1137,\n",
       " 1241,\n",
       " 402,\n",
       " 177,\n",
       " 65161,\n",
       " 64477,\n",
       " 64753,\n",
       " 63854,\n",
       " 64999,\n",
       " 64367,\n",
       " 397,\n",
       " 265,\n",
       " 1045,\n",
       " 1103,\n",
       " 485,\n",
       " 288,\n",
       " 65133,\n",
       " 64724,\n",
       " 65264,\n",
       " 65105,\n",
       " 383,\n",
       " 650,\n",
       " 394,\n",
       " 660,\n",
       " 65358,\n",
       " 65129,\n",
       " 64851,\n",
       " 64156,\n",
       " 64960,\n",
       " 64245,\n",
       " 428,\n",
       " 38,\n",
       " 1478,\n",
       " 1397,\n",
       " 1296,\n",
       " 1275,\n",
       " 63999,\n",
       " 63604,\n",
       " 63925,\n",
       " 63317,\n",
       " 63704,\n",
       " 62990,\n",
       " 63875,\n",
       " 63251,\n",
       " 64414,\n",
       " 64047,\n",
       " 65069,\n",
       " 64968,\n",
       " 331,\n",
       " 341,\n",
       " 610,\n",
       " 529,\n",
       " 21,\n",
       " 65295,\n",
       " 65008,\n",
       " 64658,\n",
       " 65008,\n",
       " 64717,\n",
       " 65212,\n",
       " 64985,\n",
       " 65309,\n",
       " 65020,\n",
       " 64931,\n",
       " 64560,\n",
       " 64366,\n",
       " 64060,\n",
       " 64728,\n",
       " 64544,\n",
       " 229,\n",
       " 65510,\n",
       " 380,\n",
       " 65425,\n",
       " 65170,\n",
       " 64603,\n",
       " 64936,\n",
       " 64590,\n",
       " 65391,\n",
       " 65286,\n",
       " 65342,\n",
       " 65208,\n",
       " 64491,\n",
       " 64170,\n",
       " 64161,\n",
       " 63817,\n",
       " 65200,\n",
       " 65076,\n",
       " 956,\n",
       " 1069,\n",
       " 1137,\n",
       " 1241,\n",
       " 402,\n",
       " 177,\n",
       " 65161,\n",
       " 64477,\n",
       " 64753,\n",
       " 63854,\n",
       " 64999,\n",
       " 64367,\n",
       " 397,\n",
       " 265,\n",
       " 1045,\n",
       " 1103,\n",
       " 485,\n",
       " 288,\n",
       " 65133,\n",
       " 64724,\n",
       " 65264,\n",
       " 65105,\n",
       " 383,\n",
       " 650,\n",
       " 394,\n",
       " 660,\n",
       " 65358,\n",
       " 65129,\n",
       " 64851,\n",
       " 64156,\n",
       " 64960,\n",
       " 64245,\n",
       " 428,\n",
       " 38,\n",
       " 1478,\n",
       " 1397,\n",
       " 1296,\n",
       " 1275)"
      ]
     },
     "execution_count": 392,
     "metadata": {},
     "output_type": "execute_result"
    }
   ],
   "source": [
    "sample_buff"
   ]
  },
  {
   "cell_type": "code",
   "execution_count": 382,
   "metadata": {},
   "outputs": [
    {
     "data": {
      "text/plain": [
       "704"
      ]
     },
     "execution_count": 382,
     "metadata": {},
     "output_type": "execute_result"
    }
   ],
   "source": [
    "len(a)*4"
   ]
  },
  {
   "cell_type": "code",
   "execution_count": 235,
   "metadata": {},
   "outputs": [
    {
     "data": {
      "text/plain": [
       "b'\\xff\\xf9t\\xf8\\xb5\\xf9U\\xf7\\xd8\\xf8\\x0e\\xf6\\x83\\xf9\\x13\\xf7\\x9e\\xfb/\\xfa-\\xfe\\xc8\\xfdK\\x01U\\x01b\\x02\\x11\\x02\\x15\\x00\\x0f\\xff\\xf0\\xfd\\x92\\xfc\\xf0\\xfd\\xcd\\xfc\\xbc\\xfe\\xd9\\xfd\\x1d\\xff\\xfc\\xfd\\xa3\\xfd0\\xfcn\\xfb<\\xfa\\xd8\\xfc \\xfc\\xe5\\x00\\xe6\\xff|\\x01\\x91\\xff\\x92\\xfe[\\xfc\\xa8\\xfdN\\xfco\\xff\\x06\\xff>\\xff\\xb8\\xfe\\xeb\\xfb\\xaa\\xfa\\xa1\\xfaI\\xf9\\xb0\\xfe4\\xfe\\xbc\\x03-\\x04q\\x04\\xd9\\x04\\x92\\x01\\xb1\\x00\\x89\\xfe\\xdd\\xfb\\xf1\\xfcn\\xf9\\xe7\\xfdo\\xfb\\x8d\\x01\\t\\x01\\x15\\x04O\\x04\\xe5\\x01 \\x01m\\xfe\\xd4\\xfc\\xf0\\xfeQ\\xfe\\x7f\\x01\\x8a\\x02\\x8a\\x01\\x94\\x02N\\xffi\\xfeS\\xfd\\x9c\\xfa\\xc0\\xfd\\xf5\\xfa\\xac\\x01&\\x00\\xc6\\x05u\\x05\\x10\\x05\\xfb\\x04'"
      ]
     },
     "execution_count": 235,
     "metadata": {},
     "output_type": "execute_result"
    }
   ],
   "source": [
    "a"
   ]
  },
  {
   "cell_type": "code",
   "execution_count": 172,
   "metadata": {},
   "outputs": [
    {
     "ename": "ValueError",
     "evalue": "invalid literal for int() with base 10: b'\\x00\\x00\\x00\\x00\\x00\\x00\\x00\\x00\\x00\\x00\\x00\\x00\\x00\\x00\\x00\\x00\\x00\\x00\\x00\\x00\\x00\\x00\\x00\\x00\\x00\\x00\\x00\\x00\\x00\\x00\\x00\\x00\\x00\\x00\\x00\\x00\\x00\\x00\\x00\\x00\\x00\\x00\\x00\\x00\\x00\\x00\\x00\\x00\\x00\\x",
     "output_type": "error",
     "traceback": [
      "\u001b[1;31m---------------------------------------------------------------------------\u001b[0m",
      "\u001b[1;31mValueError\u001b[0m                                Traceback (most recent call last)",
      "\u001b[1;32m<ipython-input-172-a50691e6a870>\u001b[0m in \u001b[0;36m<module>\u001b[1;34m\u001b[0m\n\u001b[1;32m----> 1\u001b[1;33m \u001b[1;33m(\u001b[0m\u001b[0mnp\u001b[0m\u001b[1;33m.\u001b[0m\u001b[0marray\u001b[0m\u001b[1;33m(\u001b[0m\u001b[0msample\u001b[0m\u001b[1;33m[\u001b[0m\u001b[1;36m1\u001b[0m\u001b[1;33m]\u001b[0m\u001b[1;33m.\u001b[0m\u001b[0mraw_data\u001b[0m\u001b[1;33m,\u001b[0m\u001b[0mdtype\u001b[0m \u001b[1;33m=\u001b[0m \u001b[0mnp\u001b[0m\u001b[1;33m.\u001b[0m\u001b[0mint16\u001b[0m\u001b[1;33m)\u001b[0m\u001b[1;33m)\u001b[0m\u001b[1;33m\u001b[0m\u001b[1;33m\u001b[0m\u001b[0m\n\u001b[0m",
      "\u001b[1;31mValueError\u001b[0m: invalid literal for int() with base 10: b'\\x00\\x00\\x00\\x00\\x00\\x00\\x00\\x00\\x00\\x00\\x00\\x00\\x00\\x00\\x00\\x00\\x00\\x00\\x00\\x00\\x00\\x00\\x00\\x00\\x00\\x00\\x00\\x00\\x00\\x00\\x00\\x00\\x00\\x00\\x00\\x00\\x00\\x00\\x00\\x00\\x00\\x00\\x00\\x00\\x00\\x00\\x00\\x00\\x00\\x"
     ]
    }
   ],
   "source": [
    "(np.array(sample[1].raw_data,dtype = np.int16))"
   ]
  },
  {
   "cell_type": "code",
   "execution_count": 180,
   "metadata": {},
   "outputs": [
    {
     "data": {
      "text/plain": [
       "255"
      ]
     },
     "execution_count": 180,
     "metadata": {},
     "output_type": "execute_result"
    }
   ],
   "source": [
    "ord(\"\\xff\")"
   ]
  },
  {
   "cell_type": "code",
   "execution_count": 164,
   "metadata": {},
   "outputs": [
    {
     "data": {
      "text/plain": [
       "39706"
      ]
     },
     "execution_count": 164,
     "metadata": {},
     "output_type": "execute_result"
    }
   ],
   "source": [
    "len(sample)"
   ]
  },
  {
   "cell_type": "code",
   "execution_count": 168,
   "metadata": {},
   "outputs": [
    {
     "data": {
      "text/plain": [
       "6988256"
      ]
     },
     "execution_count": 168,
     "metadata": {},
     "output_type": "execute_result"
    }
   ],
   "source": [
    "176*39706"
   ]
  },
  {
   "cell_type": "code",
   "execution_count": 145,
   "metadata": {},
   "outputs": [],
   "source": [
    "# sample(load_file) -> sound(array)\n",
    "\n",
    "def file_to_sound(sample):\n",
    "    left = sample.split_to_mono()[0]\n",
    "    bit_depth = left.sample_width*8\n",
    "    array_type = get_array_type(bit_depth)\n",
    "    numeric_array = array.array(array_type, left._data)\n",
    "    sound = np.array(numeric_array)\n",
    "    return sound"
   ]
  },
  {
   "cell_type": "code",
   "execution_count": 154,
   "metadata": {},
   "outputs": [],
   "source": [
    "# sound(array) -> features\n",
    "def feature_extract_save(y,sr,save_file=None,label=\"Unknown\"):\n",
    "    data_directory = \"C:/Users/user/desktop/data/\"\n",
    "    # 한줄 생성\n",
    "    spec_cent = librosa.feature.spectral_centroid(y=y, sr=sr)\n",
    "    spec_bw = librosa.feature.spectral_bandwidth(y=y, sr=sr)\n",
    "    rolloff = librosa.feature.spectral_rolloff(y=y, sr=sr)\n",
    "    zcr = librosa.feature.zero_crossing_rate(y)\n",
    "    chroma_stft = librosa.feature.chroma_stft(y=y, sr=sr)\n",
    "    mfcc = librosa.feature.mfcc(y=y, sr=sr)\n",
    "    to_append = [np.mean(spec_cent),np.mean(spec_bw),np.mean(rolloff),np.mean(zcr),np.mean(chroma_stft)]    \n",
    "    for e in mfcc:\n",
    "        to_append.append(np.mean(e))\n",
    "    to_append.append(label)\n",
    "    \n",
    "    # 저장유무체크 \n",
    "    if save_file == False or save_file == None:\n",
    "        pass\n",
    "    else:\n",
    "        # header생성\n",
    "        if save_file == True:\n",
    "            save_file = data_directory +'air.csv'\n",
    "        header = ['spec_cent','spec_bw','rolloff','zcr','chroma_stft']\n",
    "        for i in range(20):\n",
    "            header.append(f'mfcc{i}')\n",
    "        header.append('label')\n",
    "        \n",
    "        # 파일유무체크\n",
    "        if not os.path.exists(save_file):\n",
    "            with open(save_file,'w',newline='') as f:\n",
    "                writer = csv.writer(f)\n",
    "                writer.writerow(header)\n",
    "\n",
    "        with open(save_file, 'a', newline='') as f:\n",
    "            writer = csv.writer(f)\n",
    "            writer.writerow(to_append)\n",
    "            \n",
    "    return np.array(to_append[0:-1])"
   ]
  },
  {
   "cell_type": "code",
   "execution_count": null,
   "metadata": {},
   "outputs": [],
   "source": []
  },
  {
   "cell_type": "code",
   "execution_count": 155,
   "metadata": {},
   "outputs": [
    {
     "name": "stderr",
     "output_type": "stream",
     "text": [
      "  0%|                                                                                            | 0/7 [00:00<?, ?it/s]"
     ]
    },
    {
     "name": "stdout",
     "output_type": "stream",
     "text": [
      "air\n"
     ]
    },
    {
     "name": "stderr",
     "output_type": "stream",
     "text": [
      " 14%|████████████                                                                        | 1/7 [00:09<00:56,  9.42s/it]"
     ]
    },
    {
     "ename": "KeyboardInterrupt",
     "evalue": "",
     "output_type": "error",
     "traceback": [
      "\u001b[1;31m---------------------------------------------------------------------------\u001b[0m",
      "\u001b[1;31mKeyboardInterrupt\u001b[0m                         Traceback (most recent call last)",
      "\u001b[1;32m<ipython-input-155-404dd0f8c17e>\u001b[0m in \u001b[0;36m<module>\u001b[1;34m\u001b[0m\n\u001b[0;32m      8\u001b[0m         \u001b[0mdata\u001b[0m \u001b[1;33m=\u001b[0m \u001b[0mAudioSegment\u001b[0m\u001b[1;33m.\u001b[0m\u001b[0mfrom_file\u001b[0m\u001b[1;33m(\u001b[0m\u001b[0mfile\u001b[0m\u001b[1;33m=\u001b[0m\u001b[0mfile\u001b[0m\u001b[1;33m)\u001b[0m\u001b[1;33m\u001b[0m\u001b[1;33m\u001b[0m\u001b[0m\n\u001b[0;32m      9\u001b[0m         \u001b[0msound\u001b[0m \u001b[1;33m=\u001b[0m \u001b[0mfile_to_sound\u001b[0m\u001b[1;33m(\u001b[0m\u001b[0mdata\u001b[0m\u001b[1;33m)\u001b[0m\u001b[1;33m\u001b[0m\u001b[1;33m\u001b[0m\u001b[0m\n\u001b[1;32m---> 10\u001b[1;33m         \u001b[0mfeatures\u001b[0m \u001b[1;33m=\u001b[0m \u001b[0mfeature_extract_save\u001b[0m\u001b[1;33m(\u001b[0m\u001b[0msound\u001b[0m\u001b[1;33m/\u001b[0m\u001b[1;33m(\u001b[0m\u001b[1;36m2\u001b[0m\u001b[1;33m**\u001b[0m\u001b[1;36m15\u001b[0m\u001b[1;33m-\u001b[0m\u001b[1;36m1\u001b[0m\u001b[1;33m)\u001b[0m\u001b[1;33m,\u001b[0m\u001b[1;36m44100\u001b[0m\u001b[1;33m,\u001b[0m\u001b[1;32mTrue\u001b[0m\u001b[1;33m,\u001b[0m\u001b[0mfile_path\u001b[0m\u001b[1;33m)\u001b[0m\u001b[1;33m\u001b[0m\u001b[1;33m\u001b[0m\u001b[0m\n\u001b[0m",
      "\u001b[1;32m<ipython-input-154-b66274015b32>\u001b[0m in \u001b[0;36mfeature_extract_save\u001b[1;34m(y, sr, save_file, label)\u001b[0m\n\u001b[0;32m      7\u001b[0m     \u001b[0mrolloff\u001b[0m \u001b[1;33m=\u001b[0m \u001b[0mlibrosa\u001b[0m\u001b[1;33m.\u001b[0m\u001b[0mfeature\u001b[0m\u001b[1;33m.\u001b[0m\u001b[0mspectral_rolloff\u001b[0m\u001b[1;33m(\u001b[0m\u001b[0my\u001b[0m\u001b[1;33m=\u001b[0m\u001b[0my\u001b[0m\u001b[1;33m,\u001b[0m \u001b[0msr\u001b[0m\u001b[1;33m=\u001b[0m\u001b[0msr\u001b[0m\u001b[1;33m)\u001b[0m\u001b[1;33m\u001b[0m\u001b[1;33m\u001b[0m\u001b[0m\n\u001b[0;32m      8\u001b[0m     \u001b[0mzcr\u001b[0m \u001b[1;33m=\u001b[0m \u001b[0mlibrosa\u001b[0m\u001b[1;33m.\u001b[0m\u001b[0mfeature\u001b[0m\u001b[1;33m.\u001b[0m\u001b[0mzero_crossing_rate\u001b[0m\u001b[1;33m(\u001b[0m\u001b[0my\u001b[0m\u001b[1;33m)\u001b[0m\u001b[1;33m\u001b[0m\u001b[1;33m\u001b[0m\u001b[0m\n\u001b[1;32m----> 9\u001b[1;33m     \u001b[0mchroma_stft\u001b[0m \u001b[1;33m=\u001b[0m \u001b[0mlibrosa\u001b[0m\u001b[1;33m.\u001b[0m\u001b[0mfeature\u001b[0m\u001b[1;33m.\u001b[0m\u001b[0mchroma_stft\u001b[0m\u001b[1;33m(\u001b[0m\u001b[0my\u001b[0m\u001b[1;33m=\u001b[0m\u001b[0my\u001b[0m\u001b[1;33m,\u001b[0m \u001b[0msr\u001b[0m\u001b[1;33m=\u001b[0m\u001b[0msr\u001b[0m\u001b[1;33m)\u001b[0m\u001b[1;33m\u001b[0m\u001b[1;33m\u001b[0m\u001b[0m\n\u001b[0m\u001b[0;32m     10\u001b[0m     \u001b[0mmfcc\u001b[0m \u001b[1;33m=\u001b[0m \u001b[0mlibrosa\u001b[0m\u001b[1;33m.\u001b[0m\u001b[0mfeature\u001b[0m\u001b[1;33m.\u001b[0m\u001b[0mmfcc\u001b[0m\u001b[1;33m(\u001b[0m\u001b[0my\u001b[0m\u001b[1;33m=\u001b[0m\u001b[0my\u001b[0m\u001b[1;33m,\u001b[0m \u001b[0msr\u001b[0m\u001b[1;33m=\u001b[0m\u001b[0msr\u001b[0m\u001b[1;33m)\u001b[0m\u001b[1;33m\u001b[0m\u001b[1;33m\u001b[0m\u001b[0m\n\u001b[0;32m     11\u001b[0m     \u001b[0mto_append\u001b[0m \u001b[1;33m=\u001b[0m \u001b[1;33m[\u001b[0m\u001b[0mnp\u001b[0m\u001b[1;33m.\u001b[0m\u001b[0mmean\u001b[0m\u001b[1;33m(\u001b[0m\u001b[0mspec_cent\u001b[0m\u001b[1;33m)\u001b[0m\u001b[1;33m,\u001b[0m\u001b[0mnp\u001b[0m\u001b[1;33m.\u001b[0m\u001b[0mmean\u001b[0m\u001b[1;33m(\u001b[0m\u001b[0mspec_bw\u001b[0m\u001b[1;33m)\u001b[0m\u001b[1;33m,\u001b[0m\u001b[0mnp\u001b[0m\u001b[1;33m.\u001b[0m\u001b[0mmean\u001b[0m\u001b[1;33m(\u001b[0m\u001b[0mrolloff\u001b[0m\u001b[1;33m)\u001b[0m\u001b[1;33m,\u001b[0m\u001b[0mnp\u001b[0m\u001b[1;33m.\u001b[0m\u001b[0mmean\u001b[0m\u001b[1;33m(\u001b[0m\u001b[0mzcr\u001b[0m\u001b[1;33m)\u001b[0m\u001b[1;33m,\u001b[0m\u001b[0mnp\u001b[0m\u001b[1;33m.\u001b[0m\u001b[0mmean\u001b[0m\u001b[1;33m(\u001b[0m\u001b[0mchroma_stft\u001b[0m\u001b[1;33m)\u001b[0m\u001b[1;33m]\u001b[0m\u001b[1;33m\u001b[0m\u001b[1;33m\u001b[0m\u001b[0m\n",
      "\u001b[1;32mC:\\ProgramData\\Anaconda3\\envs\\pro\\lib\\site-packages\\librosa\\feature\\spectral.py\u001b[0m in \u001b[0;36mchroma_stft\u001b[1;34m(y, sr, S, norm, n_fft, hop_length, win_length, window, center, pad_mode, tuning, n_chroma, **kwargs)\u001b[0m\n\u001b[0;32m   1184\u001b[0m     S, n_fft = _spectrogram(y=y, S=S, n_fft=n_fft, hop_length=hop_length, power=2,\n\u001b[0;32m   1185\u001b[0m                             \u001b[0mwin_length\u001b[0m\u001b[1;33m=\u001b[0m\u001b[0mwin_length\u001b[0m\u001b[1;33m,\u001b[0m \u001b[0mwindow\u001b[0m\u001b[1;33m=\u001b[0m\u001b[0mwindow\u001b[0m\u001b[1;33m,\u001b[0m \u001b[0mcenter\u001b[0m\u001b[1;33m=\u001b[0m\u001b[0mcenter\u001b[0m\u001b[1;33m,\u001b[0m\u001b[1;33m\u001b[0m\u001b[1;33m\u001b[0m\u001b[0m\n\u001b[1;32m-> 1186\u001b[1;33m                             pad_mode=pad_mode)\n\u001b[0m\u001b[0;32m   1187\u001b[0m \u001b[1;33m\u001b[0m\u001b[0m\n\u001b[0;32m   1188\u001b[0m     \u001b[1;32mif\u001b[0m \u001b[0mtuning\u001b[0m \u001b[1;32mis\u001b[0m \u001b[1;32mNone\u001b[0m\u001b[1;33m:\u001b[0m\u001b[1;33m\u001b[0m\u001b[1;33m\u001b[0m\u001b[0m\n",
      "\u001b[1;32mC:\\ProgramData\\Anaconda3\\envs\\pro\\lib\\site-packages\\librosa\\core\\spectrum.py\u001b[0m in \u001b[0;36m_spectrogram\u001b[1;34m(y, S, n_fft, hop_length, power, win_length, window, center, pad_mode)\u001b[0m\n\u001b[0;32m   2526\u001b[0m         S = np.abs(stft(y, n_fft=n_fft, hop_length=hop_length,\n\u001b[0;32m   2527\u001b[0m                         \u001b[0mwin_length\u001b[0m\u001b[1;33m=\u001b[0m\u001b[0mwin_length\u001b[0m\u001b[1;33m,\u001b[0m \u001b[0mcenter\u001b[0m\u001b[1;33m=\u001b[0m\u001b[0mcenter\u001b[0m\u001b[1;33m,\u001b[0m\u001b[1;33m\u001b[0m\u001b[1;33m\u001b[0m\u001b[0m\n\u001b[1;32m-> 2528\u001b[1;33m                         window=window, pad_mode=pad_mode))**power\n\u001b[0m\u001b[0;32m   2529\u001b[0m \u001b[1;33m\u001b[0m\u001b[0m\n\u001b[0;32m   2530\u001b[0m     \u001b[1;32mreturn\u001b[0m \u001b[0mS\u001b[0m\u001b[1;33m,\u001b[0m \u001b[0mn_fft\u001b[0m\u001b[1;33m\u001b[0m\u001b[1;33m\u001b[0m\u001b[0m\n",
      "\u001b[1;31mKeyboardInterrupt\u001b[0m: "
     ]
    }
   ],
   "source": [
    "# feature 추출 후 air.csv로 저장\n",
    "sound_data_path = \"C:/Users/user/desktop/data/sound_data/\"\n",
    "\n",
    "for file_path in os.listdir(sound_data_path):\n",
    "    print(file_path)\n",
    "    for file in tqdm(os.listdir(sound_data_path+file_path)):\n",
    "        file = sound_data_path+file_path+'/'+file\n",
    "        data = AudioSegment.from_file(file=file)\n",
    "        sound = file_to_sound(data)\n",
    "        features = feature_extract_save(sound/(2**15-1),44100,True,file_path)"
   ]
  },
  {
   "cell_type": "code",
   "execution_count": 140,
   "metadata": {},
   "outputs": [],
   "source": [
    "# sound -> features\n",
    "features = feature_extract_save(sound/(2**15-1),44100,True,genre)"
   ]
  },
  {
   "cell_type": "code",
   "execution_count": 72,
   "metadata": {},
   "outputs": [
    {
     "data": {
      "text/plain": [
       "10000"
      ]
     },
     "execution_count": 72,
     "metadata": {},
     "output_type": "execute_result"
    }
   ],
   "source": [
    "len(numeric_array[0:10000])"
   ]
  },
  {
   "cell_type": "code",
   "execution_count": 73,
   "metadata": {},
   "outputs": [],
   "source": [
    "deal = numeric_array[0:44100]"
   ]
  },
  {
   "cell_type": "code",
   "execution_count": 58,
   "metadata": {},
   "outputs": [
    {
     "data": {
      "text/plain": [
       "39706"
      ]
     },
     "execution_count": 58,
     "metadata": {},
     "output_type": "execute_result"
    }
   ],
   "source": [
    "len(sample.split_to_mono()[0])"
   ]
  },
  {
   "cell_type": "code",
   "execution_count": 63,
   "metadata": {},
   "outputs": [],
   "source": [
    "import numpy as np"
   ]
  },
  {
   "cell_type": "code",
   "execution_count": 64,
   "metadata": {},
   "outputs": [
    {
     "ename": "KeyboardInterrupt",
     "evalue": "",
     "output_type": "error",
     "traceback": [
      "\u001b[1;31m---------------------------------------------------------------------------\u001b[0m",
      "\u001b[1;31mKeyboardInterrupt\u001b[0m                         Traceback (most recent call last)",
      "\u001b[1;32m<ipython-input-64-183295a35468>\u001b[0m in \u001b[0;36m<module>\u001b[1;34m\u001b[0m\n\u001b[1;32m----> 1\u001b[1;33m \u001b[0mnp\u001b[0m\u001b[1;33m.\u001b[0m\u001b[0marray\u001b[0m\u001b[1;33m(\u001b[0m\u001b[0msample\u001b[0m\u001b[1;33m)\u001b[0m\u001b[1;33m\u001b[0m\u001b[1;33m\u001b[0m\u001b[0m\n\u001b[0m",
      "\u001b[1;32mC:\\ProgramData\\Anaconda3\\envs\\pro\\lib\\site-packages\\pydub\\audio_segment.py\u001b[0m in \u001b[0;36m<genexpr>\u001b[1;34m(.0)\u001b[0m\n\u001b[0;32m    289\u001b[0m \u001b[1;33m\u001b[0m\u001b[0m\n\u001b[0;32m    290\u001b[0m     \u001b[1;32mdef\u001b[0m \u001b[0m__iter__\u001b[0m\u001b[1;33m(\u001b[0m\u001b[0mself\u001b[0m\u001b[1;33m)\u001b[0m\u001b[1;33m:\u001b[0m\u001b[1;33m\u001b[0m\u001b[1;33m\u001b[0m\u001b[0m\n\u001b[1;32m--> 291\u001b[1;33m         \u001b[1;32mreturn\u001b[0m \u001b[1;33m(\u001b[0m\u001b[0mself\u001b[0m\u001b[1;33m[\u001b[0m\u001b[0mi\u001b[0m\u001b[1;33m]\u001b[0m \u001b[1;32mfor\u001b[0m \u001b[0mi\u001b[0m \u001b[1;32min\u001b[0m \u001b[0mxrange\u001b[0m\u001b[1;33m(\u001b[0m\u001b[0mlen\u001b[0m\u001b[1;33m(\u001b[0m\u001b[0mself\u001b[0m\u001b[1;33m)\u001b[0m\u001b[1;33m)\u001b[0m\u001b[1;33m)\u001b[0m\u001b[1;33m\u001b[0m\u001b[1;33m\u001b[0m\u001b[0m\n\u001b[0m\u001b[0;32m    292\u001b[0m \u001b[1;33m\u001b[0m\u001b[0m\n\u001b[0;32m    293\u001b[0m     \u001b[1;32mdef\u001b[0m \u001b[0m__getitem__\u001b[0m\u001b[1;33m(\u001b[0m\u001b[0mself\u001b[0m\u001b[1;33m,\u001b[0m \u001b[0mmillisecond\u001b[0m\u001b[1;33m)\u001b[0m\u001b[1;33m:\u001b[0m\u001b[1;33m\u001b[0m\u001b[1;33m\u001b[0m\u001b[0m\n",
      "\u001b[1;32mC:\\ProgramData\\Anaconda3\\envs\\pro\\lib\\site-packages\\pydub\\audio_segment.py\u001b[0m in \u001b[0;36m__getitem__\u001b[1;34m(self, millisecond)\u001b[0m\n\u001b[0;32m    309\u001b[0m             \u001b[0mend\u001b[0m \u001b[1;33m=\u001b[0m \u001b[0mmillisecond\u001b[0m \u001b[1;33m+\u001b[0m \u001b[1;36m1\u001b[0m\u001b[1;33m\u001b[0m\u001b[1;33m\u001b[0m\u001b[0m\n\u001b[0;32m    310\u001b[0m \u001b[1;33m\u001b[0m\u001b[0m\n\u001b[1;32m--> 311\u001b[1;33m         \u001b[0mstart\u001b[0m \u001b[1;33m=\u001b[0m \u001b[0mself\u001b[0m\u001b[1;33m.\u001b[0m\u001b[0m_parse_position\u001b[0m\u001b[1;33m(\u001b[0m\u001b[0mstart\u001b[0m\u001b[1;33m)\u001b[0m \u001b[1;33m*\u001b[0m \u001b[0mself\u001b[0m\u001b[1;33m.\u001b[0m\u001b[0mframe_width\u001b[0m\u001b[1;33m\u001b[0m\u001b[1;33m\u001b[0m\u001b[0m\n\u001b[0m\u001b[0;32m    312\u001b[0m         \u001b[0mend\u001b[0m \u001b[1;33m=\u001b[0m \u001b[0mself\u001b[0m\u001b[1;33m.\u001b[0m\u001b[0m_parse_position\u001b[0m\u001b[1;33m(\u001b[0m\u001b[0mend\u001b[0m\u001b[1;33m)\u001b[0m \u001b[1;33m*\u001b[0m \u001b[0mself\u001b[0m\u001b[1;33m.\u001b[0m\u001b[0mframe_width\u001b[0m\u001b[1;33m\u001b[0m\u001b[1;33m\u001b[0m\u001b[0m\n\u001b[0;32m    313\u001b[0m         \u001b[0mdata\u001b[0m \u001b[1;33m=\u001b[0m \u001b[0mself\u001b[0m\u001b[1;33m.\u001b[0m\u001b[0m_data\u001b[0m\u001b[1;33m[\u001b[0m\u001b[0mstart\u001b[0m\u001b[1;33m:\u001b[0m\u001b[0mend\u001b[0m\u001b[1;33m]\u001b[0m\u001b[1;33m\u001b[0m\u001b[1;33m\u001b[0m\u001b[0m\n",
      "\u001b[1;32mC:\\ProgramData\\Anaconda3\\envs\\pro\\lib\\site-packages\\pydub\\audio_segment.py\u001b[0m in \u001b[0;36m_parse_position\u001b[1;34m(self, val)\u001b[0m\n\u001b[0;32m    440\u001b[0m             \u001b[0mval\u001b[0m \u001b[1;33m=\u001b[0m \u001b[0mlen\u001b[0m\u001b[1;33m(\u001b[0m\u001b[0mself\u001b[0m\u001b[1;33m)\u001b[0m \u001b[1;33m-\u001b[0m \u001b[0mabs\u001b[0m\u001b[1;33m(\u001b[0m\u001b[0mval\u001b[0m\u001b[1;33m)\u001b[0m\u001b[1;33m\u001b[0m\u001b[1;33m\u001b[0m\u001b[0m\n\u001b[0;32m    441\u001b[0m         \u001b[0mval\u001b[0m \u001b[1;33m=\u001b[0m \u001b[0mself\u001b[0m\u001b[1;33m.\u001b[0m\u001b[0mframe_count\u001b[0m\u001b[1;33m(\u001b[0m\u001b[0mms\u001b[0m\u001b[1;33m=\u001b[0m\u001b[0mlen\u001b[0m\u001b[1;33m(\u001b[0m\u001b[0mself\u001b[0m\u001b[1;33m)\u001b[0m\u001b[1;33m)\u001b[0m \u001b[1;32mif\u001b[0m \u001b[0mval\u001b[0m \u001b[1;33m==\u001b[0m \u001b[0mfloat\u001b[0m\u001b[1;33m(\u001b[0m\u001b[1;34m\"inf\"\u001b[0m\u001b[1;33m)\u001b[0m \u001b[1;32melse\u001b[0m\u001b[0;31m \u001b[0m\u001b[0;31m\\\u001b[0m\u001b[1;33m\u001b[0m\u001b[1;33m\u001b[0m\u001b[0m\n\u001b[1;32m--> 442\u001b[1;33m             \u001b[0mself\u001b[0m\u001b[1;33m.\u001b[0m\u001b[0mframe_count\u001b[0m\u001b[1;33m(\u001b[0m\u001b[0mms\u001b[0m\u001b[1;33m=\u001b[0m\u001b[0mval\u001b[0m\u001b[1;33m)\u001b[0m\u001b[1;33m\u001b[0m\u001b[1;33m\u001b[0m\u001b[0m\n\u001b[0m\u001b[0;32m    443\u001b[0m         \u001b[1;32mreturn\u001b[0m \u001b[0mint\u001b[0m\u001b[1;33m(\u001b[0m\u001b[0mval\u001b[0m\u001b[1;33m)\u001b[0m\u001b[1;33m\u001b[0m\u001b[1;33m\u001b[0m\u001b[0m\n\u001b[0;32m    444\u001b[0m \u001b[1;33m\u001b[0m\u001b[0m\n",
      "\u001b[1;32mC:\\ProgramData\\Anaconda3\\envs\\pro\\lib\\site-packages\\pydub\\audio_segment.py\u001b[0m in \u001b[0;36mframe_count\u001b[1;34m(self, ms)\u001b[0m\n\u001b[0;32m    894\u001b[0m         \u001b[1;32mreturn\u001b[0m \u001b[0mself\u001b[0m\u001b[1;33m.\u001b[0m\u001b[0m_data\u001b[0m\u001b[1;33m[\u001b[0m\u001b[0mframe_start\u001b[0m\u001b[1;33m:\u001b[0m\u001b[0mframe_end\u001b[0m\u001b[1;33m]\u001b[0m\u001b[1;33m\u001b[0m\u001b[1;33m\u001b[0m\u001b[0m\n\u001b[0;32m    895\u001b[0m \u001b[1;33m\u001b[0m\u001b[0m\n\u001b[1;32m--> 896\u001b[1;33m     \u001b[1;32mdef\u001b[0m \u001b[0mframe_count\u001b[0m\u001b[1;33m(\u001b[0m\u001b[0mself\u001b[0m\u001b[1;33m,\u001b[0m \u001b[0mms\u001b[0m\u001b[1;33m=\u001b[0m\u001b[1;32mNone\u001b[0m\u001b[1;33m)\u001b[0m\u001b[1;33m:\u001b[0m\u001b[1;33m\u001b[0m\u001b[1;33m\u001b[0m\u001b[0m\n\u001b[0m\u001b[0;32m    897\u001b[0m         \"\"\"\n\u001b[0;32m    898\u001b[0m         \u001b[0mreturns\u001b[0m \u001b[0mthe\u001b[0m \u001b[0mnumber\u001b[0m \u001b[0mof\u001b[0m \u001b[0mframes\u001b[0m \u001b[1;32mfor\u001b[0m \u001b[0mthe\u001b[0m \u001b[0mgiven\u001b[0m \u001b[0mnumber\u001b[0m \u001b[0mof\u001b[0m \u001b[0mmilliseconds\u001b[0m\u001b[1;33m,\u001b[0m \u001b[1;32mor\u001b[0m\u001b[1;33m\u001b[0m\u001b[1;33m\u001b[0m\u001b[0m\n",
      "\u001b[1;31mKeyboardInterrupt\u001b[0m: "
     ]
    }
   ],
   "source": [
    "np.array(sample)"
   ]
  },
  {
   "cell_type": "code",
   "execution_count": 14,
   "metadata": {},
   "outputs": [],
   "source": [
    "file_list = []\n",
    "for i in genre:\n",
    "    for file in os.listdir(data_default_path+i):\n",
    "        file_list.append(file)"
   ]
  },
  {
   "cell_type": "code",
   "execution_count": 11,
   "metadata": {},
   "outputs": [],
   "source": [
    "import librosa"
   ]
  },
  {
   "cell_type": "code",
   "execution_count": 13,
   "metadata": {},
   "outputs": [
    {
     "name": "stderr",
     "output_type": "stream",
     "text": [
      "C:\\ProgramData\\Anaconda3\\envs\\pro\\lib\\site-packages\\librosa\\core\\audio.py:146: UserWarning: PySoundFile failed. Trying audioread instead.\n",
      "  warnings.warn('PySoundFile failed. Trying audioread instead.')\n"
     ]
    },
    {
     "ename": "FileNotFoundError",
     "evalue": "[Errno 2] No such file or directory: '2019년 업데이트된 대한항공 기내방송문(전문) 한국어+영어.mp3'",
     "output_type": "error",
     "traceback": [
      "\u001b[1;31m---------------------------------------------------------------------------\u001b[0m",
      "\u001b[1;31mRuntimeError\u001b[0m                              Traceback (most recent call last)",
      "\u001b[1;32mC:\\ProgramData\\Anaconda3\\envs\\pro\\lib\\site-packages\\librosa\\core\\audio.py\u001b[0m in \u001b[0;36mload\u001b[1;34m(path, sr, mono, offset, duration, dtype, res_type)\u001b[0m\n\u001b[0;32m    128\u001b[0m     \u001b[1;32mtry\u001b[0m\u001b[1;33m:\u001b[0m\u001b[1;33m\u001b[0m\u001b[1;33m\u001b[0m\u001b[0m\n\u001b[1;32m--> 129\u001b[1;33m         \u001b[1;32mwith\u001b[0m \u001b[0msf\u001b[0m\u001b[1;33m.\u001b[0m\u001b[0mSoundFile\u001b[0m\u001b[1;33m(\u001b[0m\u001b[0mpath\u001b[0m\u001b[1;33m)\u001b[0m \u001b[1;32mas\u001b[0m \u001b[0msf_desc\u001b[0m\u001b[1;33m:\u001b[0m\u001b[1;33m\u001b[0m\u001b[1;33m\u001b[0m\u001b[0m\n\u001b[0m\u001b[0;32m    130\u001b[0m             \u001b[0msr_native\u001b[0m \u001b[1;33m=\u001b[0m \u001b[0msf_desc\u001b[0m\u001b[1;33m.\u001b[0m\u001b[0msamplerate\u001b[0m\u001b[1;33m\u001b[0m\u001b[1;33m\u001b[0m\u001b[0m\n",
      "\u001b[1;32mC:\\ProgramData\\Anaconda3\\envs\\pro\\lib\\site-packages\\soundfile.py\u001b[0m in \u001b[0;36m__init__\u001b[1;34m(self, file, mode, samplerate, channels, subtype, endian, format, closefd)\u001b[0m\n\u001b[0;32m    626\u001b[0m                                          format, subtype, endian)\n\u001b[1;32m--> 627\u001b[1;33m         \u001b[0mself\u001b[0m\u001b[1;33m.\u001b[0m\u001b[0m_file\u001b[0m \u001b[1;33m=\u001b[0m \u001b[0mself\u001b[0m\u001b[1;33m.\u001b[0m\u001b[0m_open\u001b[0m\u001b[1;33m(\u001b[0m\u001b[0mfile\u001b[0m\u001b[1;33m,\u001b[0m \u001b[0mmode_int\u001b[0m\u001b[1;33m,\u001b[0m \u001b[0mclosefd\u001b[0m\u001b[1;33m)\u001b[0m\u001b[1;33m\u001b[0m\u001b[1;33m\u001b[0m\u001b[0m\n\u001b[0m\u001b[0;32m    628\u001b[0m         \u001b[1;32mif\u001b[0m \u001b[0mset\u001b[0m\u001b[1;33m(\u001b[0m\u001b[0mmode\u001b[0m\u001b[1;33m)\u001b[0m\u001b[1;33m.\u001b[0m\u001b[0missuperset\u001b[0m\u001b[1;33m(\u001b[0m\u001b[1;34m'r+'\u001b[0m\u001b[1;33m)\u001b[0m \u001b[1;32mand\u001b[0m \u001b[0mself\u001b[0m\u001b[1;33m.\u001b[0m\u001b[0mseekable\u001b[0m\u001b[1;33m(\u001b[0m\u001b[1;33m)\u001b[0m\u001b[1;33m:\u001b[0m\u001b[1;33m\u001b[0m\u001b[1;33m\u001b[0m\u001b[0m\n",
      "\u001b[1;32mC:\\ProgramData\\Anaconda3\\envs\\pro\\lib\\site-packages\\soundfile.py\u001b[0m in \u001b[0;36m_open\u001b[1;34m(self, file, mode_int, closefd)\u001b[0m\n\u001b[0;32m   1181\u001b[0m         _error_check(_snd.sf_error(file_ptr),\n\u001b[1;32m-> 1182\u001b[1;33m                      \"Error opening {0!r}: \".format(self.name))\n\u001b[0m\u001b[0;32m   1183\u001b[0m         \u001b[1;32mif\u001b[0m \u001b[0mmode_int\u001b[0m \u001b[1;33m==\u001b[0m \u001b[0m_snd\u001b[0m\u001b[1;33m.\u001b[0m\u001b[0mSFM_WRITE\u001b[0m\u001b[1;33m:\u001b[0m\u001b[1;33m\u001b[0m\u001b[1;33m\u001b[0m\u001b[0m\n",
      "\u001b[1;32mC:\\ProgramData\\Anaconda3\\envs\\pro\\lib\\site-packages\\soundfile.py\u001b[0m in \u001b[0;36m_error_check\u001b[1;34m(err, prefix)\u001b[0m\n\u001b[0;32m   1354\u001b[0m         \u001b[0merr_str\u001b[0m \u001b[1;33m=\u001b[0m \u001b[0m_snd\u001b[0m\u001b[1;33m.\u001b[0m\u001b[0msf_error_number\u001b[0m\u001b[1;33m(\u001b[0m\u001b[0merr\u001b[0m\u001b[1;33m)\u001b[0m\u001b[1;33m\u001b[0m\u001b[1;33m\u001b[0m\u001b[0m\n\u001b[1;32m-> 1355\u001b[1;33m         \u001b[1;32mraise\u001b[0m \u001b[0mRuntimeError\u001b[0m\u001b[1;33m(\u001b[0m\u001b[0mprefix\u001b[0m \u001b[1;33m+\u001b[0m \u001b[0m_ffi\u001b[0m\u001b[1;33m.\u001b[0m\u001b[0mstring\u001b[0m\u001b[1;33m(\u001b[0m\u001b[0merr_str\u001b[0m\u001b[1;33m)\u001b[0m\u001b[1;33m.\u001b[0m\u001b[0mdecode\u001b[0m\u001b[1;33m(\u001b[0m\u001b[1;34m'utf-8'\u001b[0m\u001b[1;33m,\u001b[0m \u001b[1;34m'replace'\u001b[0m\u001b[1;33m)\u001b[0m\u001b[1;33m)\u001b[0m\u001b[1;33m\u001b[0m\u001b[1;33m\u001b[0m\u001b[0m\n\u001b[0m\u001b[0;32m   1356\u001b[0m \u001b[1;33m\u001b[0m\u001b[0m\n",
      "\u001b[1;31mRuntimeError\u001b[0m: Error opening '2019년 업데이트된 대한항공 기내방송문(전문) 한국어+영어.mp3': System error.",
      "\nDuring handling of the above exception, another exception occurred:\n",
      "\u001b[1;31mFileNotFoundError\u001b[0m                         Traceback (most recent call last)",
      "\u001b[1;32m<ipython-input-13-0f307ed42d30>\u001b[0m in \u001b[0;36m<module>\u001b[1;34m\u001b[0m\n\u001b[0;32m      1\u001b[0m \u001b[1;32mfor\u001b[0m \u001b[0mi\u001b[0m \u001b[1;32min\u001b[0m \u001b[0mfile_list\u001b[0m\u001b[1;33m:\u001b[0m\u001b[1;33m\u001b[0m\u001b[1;33m\u001b[0m\u001b[0m\n\u001b[1;32m----> 2\u001b[1;33m     \u001b[0mdata\u001b[0m\u001b[1;33m,\u001b[0m\u001b[0msr\u001b[0m \u001b[1;33m=\u001b[0m \u001b[0mlibrosa\u001b[0m\u001b[1;33m.\u001b[0m\u001b[0mload\u001b[0m\u001b[1;33m(\u001b[0m\u001b[0mi\u001b[0m\u001b[1;33m)\u001b[0m\u001b[1;33m\u001b[0m\u001b[1;33m\u001b[0m\u001b[0m\n\u001b[0m\u001b[0;32m      3\u001b[0m     \u001b[0mprint\u001b[0m\u001b[1;33m(\u001b[0m\u001b[0mlen\u001b[0m\u001b[1;33m(\u001b[0m\u001b[0mdata\u001b[0m\u001b[1;33m)\u001b[0m\u001b[1;33m/\u001b[0m\u001b[0msr\u001b[0m\u001b[1;33m)\u001b[0m\u001b[1;33m\u001b[0m\u001b[1;33m\u001b[0m\u001b[0m\n",
      "\u001b[1;32mC:\\ProgramData\\Anaconda3\\envs\\pro\\lib\\site-packages\\librosa\\core\\audio.py\u001b[0m in \u001b[0;36mload\u001b[1;34m(path, sr, mono, offset, duration, dtype, res_type)\u001b[0m\n\u001b[0;32m    145\u001b[0m         \u001b[1;32mif\u001b[0m \u001b[0misinstance\u001b[0m\u001b[1;33m(\u001b[0m\u001b[0mpath\u001b[0m\u001b[1;33m,\u001b[0m \u001b[0msix\u001b[0m\u001b[1;33m.\u001b[0m\u001b[0mstring_types\u001b[0m\u001b[1;33m)\u001b[0m\u001b[1;33m:\u001b[0m\u001b[1;33m\u001b[0m\u001b[1;33m\u001b[0m\u001b[0m\n\u001b[0;32m    146\u001b[0m             \u001b[0mwarnings\u001b[0m\u001b[1;33m.\u001b[0m\u001b[0mwarn\u001b[0m\u001b[1;33m(\u001b[0m\u001b[1;34m'PySoundFile failed. Trying audioread instead.'\u001b[0m\u001b[1;33m)\u001b[0m\u001b[1;33m\u001b[0m\u001b[1;33m\u001b[0m\u001b[0m\n\u001b[1;32m--> 147\u001b[1;33m             \u001b[0my\u001b[0m\u001b[1;33m,\u001b[0m \u001b[0msr_native\u001b[0m \u001b[1;33m=\u001b[0m \u001b[0m__audioread_load\u001b[0m\u001b[1;33m(\u001b[0m\u001b[0mpath\u001b[0m\u001b[1;33m,\u001b[0m \u001b[0moffset\u001b[0m\u001b[1;33m,\u001b[0m \u001b[0mduration\u001b[0m\u001b[1;33m,\u001b[0m \u001b[0mdtype\u001b[0m\u001b[1;33m)\u001b[0m\u001b[1;33m\u001b[0m\u001b[1;33m\u001b[0m\u001b[0m\n\u001b[0m\u001b[0;32m    148\u001b[0m         \u001b[1;32melse\u001b[0m\u001b[1;33m:\u001b[0m\u001b[1;33m\u001b[0m\u001b[1;33m\u001b[0m\u001b[0m\n\u001b[0;32m    149\u001b[0m             \u001b[0msix\u001b[0m\u001b[1;33m.\u001b[0m\u001b[0mreraise\u001b[0m\u001b[1;33m(\u001b[0m\u001b[1;33m*\u001b[0m\u001b[0msys\u001b[0m\u001b[1;33m.\u001b[0m\u001b[0mexc_info\u001b[0m\u001b[1;33m(\u001b[0m\u001b[1;33m)\u001b[0m\u001b[1;33m)\u001b[0m\u001b[1;33m\u001b[0m\u001b[1;33m\u001b[0m\u001b[0m\n",
      "\u001b[1;32mC:\\ProgramData\\Anaconda3\\envs\\pro\\lib\\site-packages\\librosa\\core\\audio.py\u001b[0m in \u001b[0;36m__audioread_load\u001b[1;34m(path, offset, duration, dtype)\u001b[0m\n\u001b[0;32m    169\u001b[0m \u001b[1;33m\u001b[0m\u001b[0m\n\u001b[0;32m    170\u001b[0m     \u001b[0my\u001b[0m \u001b[1;33m=\u001b[0m \u001b[1;33m[\u001b[0m\u001b[1;33m]\u001b[0m\u001b[1;33m\u001b[0m\u001b[1;33m\u001b[0m\u001b[0m\n\u001b[1;32m--> 171\u001b[1;33m     \u001b[1;32mwith\u001b[0m \u001b[0maudioread\u001b[0m\u001b[1;33m.\u001b[0m\u001b[0maudio_open\u001b[0m\u001b[1;33m(\u001b[0m\u001b[0mpath\u001b[0m\u001b[1;33m)\u001b[0m \u001b[1;32mas\u001b[0m \u001b[0minput_file\u001b[0m\u001b[1;33m:\u001b[0m\u001b[1;33m\u001b[0m\u001b[1;33m\u001b[0m\u001b[0m\n\u001b[0m\u001b[0;32m    172\u001b[0m         \u001b[0msr_native\u001b[0m \u001b[1;33m=\u001b[0m \u001b[0minput_file\u001b[0m\u001b[1;33m.\u001b[0m\u001b[0msamplerate\u001b[0m\u001b[1;33m\u001b[0m\u001b[1;33m\u001b[0m\u001b[0m\n\u001b[0;32m    173\u001b[0m         \u001b[0mn_channels\u001b[0m \u001b[1;33m=\u001b[0m \u001b[0minput_file\u001b[0m\u001b[1;33m.\u001b[0m\u001b[0mchannels\u001b[0m\u001b[1;33m\u001b[0m\u001b[1;33m\u001b[0m\u001b[0m\n",
      "\u001b[1;32mC:\\ProgramData\\Anaconda3\\envs\\pro\\lib\\site-packages\\audioread\\__init__.py\u001b[0m in \u001b[0;36maudio_open\u001b[1;34m(path, backends)\u001b[0m\n\u001b[0;32m    109\u001b[0m     \u001b[1;32mfor\u001b[0m \u001b[0mBackendClass\u001b[0m \u001b[1;32min\u001b[0m \u001b[0mbackends\u001b[0m\u001b[1;33m:\u001b[0m\u001b[1;33m\u001b[0m\u001b[1;33m\u001b[0m\u001b[0m\n\u001b[0;32m    110\u001b[0m         \u001b[1;32mtry\u001b[0m\u001b[1;33m:\u001b[0m\u001b[1;33m\u001b[0m\u001b[1;33m\u001b[0m\u001b[0m\n\u001b[1;32m--> 111\u001b[1;33m             \u001b[1;32mreturn\u001b[0m \u001b[0mBackendClass\u001b[0m\u001b[1;33m(\u001b[0m\u001b[0mpath\u001b[0m\u001b[1;33m)\u001b[0m\u001b[1;33m\u001b[0m\u001b[1;33m\u001b[0m\u001b[0m\n\u001b[0m\u001b[0;32m    112\u001b[0m         \u001b[1;32mexcept\u001b[0m \u001b[0mDecodeError\u001b[0m\u001b[1;33m:\u001b[0m\u001b[1;33m\u001b[0m\u001b[1;33m\u001b[0m\u001b[0m\n\u001b[0;32m    113\u001b[0m             \u001b[1;32mpass\u001b[0m\u001b[1;33m\u001b[0m\u001b[1;33m\u001b[0m\u001b[0m\n",
      "\u001b[1;32mC:\\ProgramData\\Anaconda3\\envs\\pro\\lib\\site-packages\\audioread\\rawread.py\u001b[0m in \u001b[0;36m__init__\u001b[1;34m(self, filename)\u001b[0m\n\u001b[0;32m     60\u001b[0m     \"\"\"\n\u001b[0;32m     61\u001b[0m     \u001b[1;32mdef\u001b[0m \u001b[0m__init__\u001b[0m\u001b[1;33m(\u001b[0m\u001b[0mself\u001b[0m\u001b[1;33m,\u001b[0m \u001b[0mfilename\u001b[0m\u001b[1;33m)\u001b[0m\u001b[1;33m:\u001b[0m\u001b[1;33m\u001b[0m\u001b[1;33m\u001b[0m\u001b[0m\n\u001b[1;32m---> 62\u001b[1;33m         \u001b[0mself\u001b[0m\u001b[1;33m.\u001b[0m\u001b[0m_fh\u001b[0m \u001b[1;33m=\u001b[0m \u001b[0mopen\u001b[0m\u001b[1;33m(\u001b[0m\u001b[0mfilename\u001b[0m\u001b[1;33m,\u001b[0m \u001b[1;34m'rb'\u001b[0m\u001b[1;33m)\u001b[0m\u001b[1;33m\u001b[0m\u001b[1;33m\u001b[0m\u001b[0m\n\u001b[0m\u001b[0;32m     63\u001b[0m \u001b[1;33m\u001b[0m\u001b[0m\n\u001b[0;32m     64\u001b[0m         \u001b[1;32mtry\u001b[0m\u001b[1;33m:\u001b[0m\u001b[1;33m\u001b[0m\u001b[1;33m\u001b[0m\u001b[0m\n",
      "\u001b[1;31mFileNotFoundError\u001b[0m: [Errno 2] No such file or directory: '2019년 업데이트된 대한항공 기내방송문(전문) 한국어+영어.mp3'"
     ]
    }
   ],
   "source": [
    "for i in file_list:\n",
    "    data,sr = librosa.load(data_default_path+i)\n",
    "    print(len(data)/sr)"
   ]
  },
  {
   "cell_type": "code",
   "execution_count": null,
   "metadata": {},
   "outputs": [],
   "source": []
  }
 ],
 "metadata": {
  "kernelspec": {
   "display_name": "kernel_pro",
   "language": "python",
   "name": "kernel_pro"
  },
  "language_info": {
   "codemirror_mode": {
    "name": "ipython",
    "version": 3
   },
   "file_extension": ".py",
   "mimetype": "text/x-python",
   "name": "python",
   "nbconvert_exporter": "python",
   "pygments_lexer": "ipython3",
   "version": "3.7.5"
  }
 },
 "nbformat": 4,
 "nbformat_minor": 4
}
