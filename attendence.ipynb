{
 "cells": [
  {
   "cell_type": "code",
   "execution_count": 3,
   "metadata": {},
   "outputs": [
    {
     "name": "stdout",
     "output_type": "stream",
     "text": [
      "finish\n"
     ]
    }
   ],
   "source": [
    "a = recording()"
   ]
  },
  {
   "cell_type": "code",
   "execution_count": 7,
   "metadata": {},
   "outputs": [
    {
     "data": {
      "text/plain": [
       "array([[ 1.5258789e-04,  1.5258789e-04],\n",
       "       [ 9.1552734e-05,  1.5258789e-04],\n",
       "       [ 6.1035156e-05, -3.0517578e-05],\n",
       "       ...,\n",
       "       [ 6.1035156e-05, -1.2207031e-04],\n",
       "       [ 9.1552734e-05, -6.1035156e-05],\n",
       "       [ 0.0000000e+00,  3.0517578e-05]], dtype=float32)"
      ]
     },
     "execution_count": 7,
     "metadata": {},
     "output_type": "execute_result"
    }
   ],
   "source": [
    "data_directory = \"C:/Users/user/desktop/sound_data/attendence/\"\n",
    "\n",
    "def read_file(read_file):\n",
    "    return librosa.load(read_file)"
   ]
  },
  {
   "cell_type": "code",
   "execution_count": 2,
   "metadata": {},
   "outputs": [],
   "source": [
    "import sounddevice as sd\n",
    "import wave\n",
    "import os\n",
    "import numpy as np\n",
    "\n",
    "data_directory = \"C:/Users/user/desktop/sound_data/attendence/\"\n",
    "        \n",
    "# 출석을 5번 말해 주세요 (5초 녹음)\n",
    "def recording(duration = 5,fs = 44100,test_save=False):\n",
    "    myrecording = sd.rec(int(duration * fs), samplerate=fs, channels=2)\n",
    "    sd.wait()\n",
    "    print(\"finish\")\n",
    "    if test_save==True:\n",
    "        save_the_record(myrecording,'./recording_test.wav',sr=fs)\n",
    "    \n",
    "    return myrecording\n",
    "\n",
    "# 녹음한 내용 듣기\n",
    "def playsound(recorded_data,fs=44100):\n",
    "    sd.play(recorded_data,samplerate=fs)\n",
    "    sd.wait()\n",
    "\n",
    "# 저장하기\n",
    "def save_the_record(a,file_name,sr=44100,overwrite=False):\n",
    "    if (overwrite == True) or (not os.path.exists(file_name)):\n",
    "        with wave.open(data_directory+'sound_storage/'+file_name,'wb') as f:\n",
    "            f.setnchannels(2)\n",
    "            f.setsampwidth(2)\n",
    "            f.setframerate(sr)\n",
    "            f.writeframes((a*(2**15-1)).astype(np.int16))\n",
    "    else:\n",
    "        print(\"File Exists -> to overwrite the file change parameter overwirte=True\")\n",
    "        raise "
   ]
  },
  {
   "cell_type": "code",
   "execution_count": 493,
   "metadata": {},
   "outputs": [],
   "source": [
    "import librosa\n",
    "import os,csv\n",
    "from sklearn.preprocessing import StandardScaler\n",
    "import numpy as np\n",
    "\n",
    "data_directory = \"C:/Users/user/desktop/sound_data/attendence/\"\n",
    "\n",
    "def read_file(read_file):\n",
    "    return librosa.load(read_file)\n",
    "\n",
    "def feature_extract_save(y,sr,save_file=None,label=\"Unknown\"):\n",
    "    \n",
    "    # 한줄 생성\n",
    "    spec_cent = librosa.feature.spectral_centroid(y=y, sr=sr)\n",
    "    spec_bw = librosa.feature.spectral_bandwidth(y=y, sr=sr)\n",
    "    rolloff = librosa.feature.spectral_rolloff(y=y, sr=sr)\n",
    "    zcr = librosa.feature.zero_crossing_rate(y)\n",
    "    chroma_stft = librosa.feature.chroma_stft(y=y, sr=sr)\n",
    "    mfcc = librosa.feature.mfcc(y=y, sr=sr)\n",
    "    to_append = [np.mean(spec_cent),np.mean(spec_bw),np.mean(rolloff),np.mean(zcr),np.mean(chroma_stft)]    \n",
    "    for e in mfcc:\n",
    "        to_append.append(np.mean(e))\n",
    "    to_append.append(label)\n",
    "    \n",
    "    # 저장유무체크 \n",
    "    if save_file == False or save_file == None:\n",
    "        pass\n",
    "    else:\n",
    "        # header생성\n",
    "        if save_file == True:\n",
    "            save_file = data_directory +'attend.csv'\n",
    "        header = ['spec_cent','spec_bw','rolloff','zcr','chroma_stft']\n",
    "        for i in range(20):\n",
    "            header.append(f'mfcc{i}')\n",
    "        header.append('label')\n",
    "        \n",
    "        # 파일유무체크\n",
    "        if not os.path.exists(save_file):\n",
    "            with open(save_file,'w',newline='') as f:\n",
    "                writer = csv.writer(f)\n",
    "                writer.writerow(header)\n",
    "\n",
    "        with open(save_file, 'a', newline='') as f:\n",
    "            writer = csv.writer(f)\n",
    "            writer.writerow(to_append)\n",
    "            \n",
    "    return np.array(to_append[0:-1])"
   ]
  },
  {
   "cell_type": "code",
   "execution_count": 481,
   "metadata": {},
   "outputs": [],
   "source": [
    "import pandas as pd\n",
    "from keras import models,layers\n",
    "from sklearn.preprocessing import OneHotEncoder,StandardScaler\n",
    "from sklearn.model_selection import train_test_split\n",
    "import numpy as np\n",
    "from sklearn.ensemble import GradientBoostingClassifier\n",
    "\n",
    "\n",
    "\n",
    "# csv_data = 'C:/Users/user/desktop/sound_data/attendence/attend.csv'\n",
    "def data_preprocessing(csv_data):\n",
    "    data = pd.read_csv(csv_data,encoding='euc-kr')\n",
    "\n",
    "    person_label = data[['label']]\n",
    "    onehotencoder = OneHotEncoder()\n",
    "    y = onehotencoder.fit_transform(person_label).toarray()\n",
    "    \n",
    "    # normalizing\n",
    "    scaler = StandardScaler()\n",
    "    X = scaler.fit_transform(np.array(data.iloc[:, :-1], dtype = float))\n",
    "    return X,y,onehotencoder\n",
    "\n",
    "def one_hot_decoder(oh_encoder,y):\n",
    "    return oh_encoder.categories_[0][np.argmax(y,axis=1)].reshape(-1,1)\n",
    "\n",
    "# spliting of dataset into train and test dataset\n",
    "# X_train, X_test, y_train, y_test = train_test_split(X, y, test_size=0.3)\n",
    "\n",
    "def model_making(input_shape,output_len):\n",
    "    # creating a model\n",
    "    model = models.Sequential()\n",
    "    model.add(layers.Dense(256, activation='relu', input_shape=(input_shape[1:]) ))\n",
    "    model.add(layers.Dense(128, activation='relu'))\n",
    "    model.add(layers.Dense(64, activation='relu'))\n",
    "    model.add(layers.Dense(output_len, activation='softmax'))\n",
    "\n",
    "    model.compile(optimizer='adam',\n",
    "          loss='categorical_crossentropy',\n",
    "          metrics=['accuracy'])\n",
    "    \n",
    "    return model\n",
    "\n",
    "def ML_model_making(X,y):\n",
    "    MLmodel = GradientBoostingClassifier()\n",
    "    MLmodel.fit(X,y)\n",
    "    return MLmodel\n",
    "\n",
    "def model_fitting(model,X,y):\n",
    "    \n",
    "#     X_train,X_test,y_train,y_test = train_test_split(X,y)\n",
    "    \n",
    "    history = model.fit(X, y, epochs=10, batch_size=128)\n",
    "#     history = model.fit(X_train, y_train, epochs=10, batch_size=128)\n",
    "    \n",
    "#     test_loss, test_acc = model.evaluate(X_test,y_test)\n",
    "#     print('test_acc: ',test_acc)\n",
    "    return model\n",
    "    \n",
    "def model_predict(model,X):\n",
    "\n",
    "    # predictions\n",
    "    predictions = model.predict(X)\n",
    "\n",
    "    return predictions"
   ]
  },
  {
   "cell_type": "code",
   "execution_count": null,
   "metadata": {},
   "outputs": [],
   "source": [
    "## 기능구현\n",
    "\n",
    "### 1. data gathering\n",
    "* sound = recording()\n",
    "* save_the_record(sound)\n",
    "* data = feature_extract_save(sound)\n",
    "\n",
    "### 1. modeling\n",
    "* X,y,onehotencoder = data_preprocessing(csv_file)\n",
    "* model = model_making(X.shape,y.shape[1])\n",
    "* model = model_fitting(model,X,y)\n",
    "\n",
    "### 1. predict_model\n",
    "* 1. data gathering\n",
    "* model_predict(model,onehotencoder,data)\n",
    "* \n",
    "\n",
    "## 추가구현\n",
    "* 단어인식(1d conv)"
   ]
  },
  {
   "cell_type": "markdown",
   "metadata": {},
   "source": [
    "## 작동함수"
   ]
  },
  {
   "cell_type": "code",
   "execution_count": 482,
   "metadata": {},
   "outputs": [],
   "source": [
    "# 음성 -> 모델\n",
    "def gather_voice(name):\n",
    "    # 출석 5번이상 말하기 (5초녹음)\n",
    "    sound = recording()\n",
    "    playsound(sound)\n",
    "    save_the_record(sound,name+\".wav\")\n",
    "\n",
    "    # 특징추출 후 저장\n",
    "    features = feature_extract_save(np.mean(sound,axis=1),44100,save_file=True,label = name)\n",
    "\n",
    "    # data로 model 학습\n",
    "    csv_data = 'C:/Users/user/desktop/sound_data/attendence/attend.csv'\n",
    "    X,y,oh_encoder = data_preprocessing(csv_data)\n",
    "    model = model_making(X.shape,len(y))\n",
    "    model = model_fitting(model,X,y)\n",
    "\n",
    "    # 모델 저장\n",
    "    return model,oh_encoder\n",
    "\n",
    "def gather_voice_from_data(file,name):\n",
    "    sound,sr = librosa.load(file)\n",
    "    features = feature_extract_save(sound,44100,save_file=True,label = name)\n",
    "    \n",
    "    csv_data = 'C:/Users/user/desktop/sound_data/attendence/attend.csv'\n",
    "    X,y,oh_encoder = data_preprocessing(csv_data)\n",
    "    model = model_making(X.shape,y.shape[1])\n",
    "    model = model_fitting(model,X,y)\n",
    "\n",
    "    # 모델 저장\n",
    "    return model,oh_encoder\n",
    "\n",
    "# dir = \"C:/Users/user/desktop/sound_data/attendence/sound_storage/\" \n",
    "def make_model_from_dir(dir):\n",
    "    for file in os.listdir(dir):\n",
    "        sound,sr = librosa.load(dir+file)\n",
    "        features = feature_extract_save(sound,44100,save_file=False,label = file.split(\".\")[0])\n",
    "        \n",
    "    csv_data = 'C:/Users/user/desktop/sound_data/attendence/attend.csv'\n",
    "    X,y,oh_encoder = data_preprocessing(csv_data)\n",
    "    model = model_making(X.shape,y.shape[1])\n",
    "    model = model_fitting(model,X,y)\n",
    "\n",
    "    # 모델 저장\n",
    "    return model,oh_encoder\n",
    "\n",
    "def MLmodel():\n",
    "    csv_data = 'C:/Users/user/desktop/sound_data/attendence/attend.csv'\n",
    "    X,y,oh_encoder = data_preprocessing(csv_data)\n",
    "    y = one_hot_decoder(oh_encoder,y)\n",
    "    return ML_model_making(X,y)"
   ]
  },
  {
   "cell_type": "code",
   "execution_count": 442,
   "metadata": {},
   "outputs": [],
   "source": [
    "def predict(model,oh_encoder):\n",
    "    # 1초 녹음후 예측\n",
    "    person_X = recording(duration = 1.7)\n",
    "#     playsound(person_X)\n",
    "    # 모델 불러오기\n",
    "    person_X_feature = feature_extract_save(person_X.mean(axis=1),44100)\n",
    "    predict = model_predict(model,person_X_feature.reshape(1,25))\n",
    "    \n",
    "    # predict 가 누구인지\n",
    "    return one_hot_decoder(oh_encoder,predict),predict\n",
    "\n",
    "def MLpredict(model):\n",
    "    # 1초 녹음후 예측\n",
    "    person_X = recording(duration = 1.7)\n",
    "\n",
    "    person_X_feature = feature_extract_save(person_X.mean(axis=1),44100)\n",
    "    predict = model_predict(model,person_X_feature.reshape(1,25))\n",
    "    \n",
    "    # predict 가 누구인지\n",
    "    return predict"
   ]
  },
  {
   "cell_type": "markdown",
   "metadata": {},
   "source": [
    "## directory 로 부터 model 생성"
   ]
  },
  {
   "cell_type": "code",
   "execution_count": 494,
   "metadata": {},
   "outputs": [
    {
     "name": "stderr",
     "output_type": "stream",
     "text": [
      "C:\\Users\\User\\Anaconda3\\envs\\pro\\lib\\site-packages\\librosa\\core\\audio.py:146: UserWarning: PySoundFile failed. Trying audioread instead.\n",
      "  warnings.warn('PySoundFile failed. Trying audioread instead.')\n"
     ]
    },
    {
     "name": "stdout",
     "output_type": "stream",
     "text": [
      "Epoch 1/10\n",
      "6/6 [==============================] - 0s 63ms/step - loss: 1.8143 - accuracy: 0.1667\n",
      "Epoch 2/10\n",
      "6/6 [==============================] - 0s 667us/step - loss: 1.6026 - accuracy: 0.5000\n",
      "Epoch 3/10\n",
      "6/6 [==============================] - 0s 667us/step - loss: 1.4306 - accuracy: 0.8333\n",
      "Epoch 4/10\n",
      "6/6 [==============================] - 0s 666us/step - loss: 1.2824 - accuracy: 1.0000\n",
      "Epoch 5/10\n",
      "6/6 [==============================] - 0s 667us/step - loss: 1.1490 - accuracy: 1.0000\n",
      "Epoch 6/10\n",
      "6/6 [==============================] - 0s 501us/step - loss: 1.0256 - accuracy: 1.0000\n",
      "Epoch 7/10\n",
      "6/6 [==============================] - 0s 500us/step - loss: 0.9116 - accuracy: 1.0000\n",
      "Epoch 8/10\n",
      "6/6 [==============================] - 0s 500us/step - loss: 0.8055 - accuracy: 1.0000\n",
      "Epoch 9/10\n",
      "6/6 [==============================] - 0s 667us/step - loss: 0.7063 - accuracy: 1.0000\n",
      "Epoch 10/10\n",
      "6/6 [==============================] - 0s 665us/step - loss: 0.6154 - accuracy: 1.0000\n"
     ]
    }
   ],
   "source": [
    "dir = \"C:/Users/user/desktop/sound_data/attendence/sound_storage/\"\n",
    "model,oh_encoder = make_model_from_dir(dir)"
   ]
  },
  {
   "cell_type": "code",
   "execution_count": 507,
   "metadata": {},
   "outputs": [
    {
     "name": "stdout",
     "output_type": "stream",
     "text": [
      "finish\n"
     ]
    },
    {
     "data": {
      "text/plain": [
       "(array([['용한인사']], dtype=object),\n",
       " array([[0., 0., 0., 1., 0., 0.]], dtype=float32))"
      ]
     },
     "execution_count": 507,
     "metadata": {},
     "output_type": "execute_result"
    }
   ],
   "source": [
    "predict(model,oh_encoder)"
   ]
  },
  {
   "cell_type": "code",
   "execution_count": 500,
   "metadata": {},
   "outputs": [
    {
     "name": "stderr",
     "output_type": "stream",
     "text": [
      "C:\\Users\\User\\Anaconda3\\envs\\pro\\lib\\site-packages\\sklearn\\ensemble\\gradient_boosting.py:1450: DataConversionWarning: A column-vector y was passed when a 1d array was expected. Please change the shape of y to (n_samples, ), for example using ravel().\n",
      "  y = column_or_1d(y, warn=True)\n"
     ]
    },
    {
     "name": "stdout",
     "output_type": "stream",
     "text": [
      "finish\n"
     ]
    },
    {
     "data": {
      "text/plain": [
       "array(['배강민'], dtype=object)"
      ]
     },
     "execution_count": 500,
     "metadata": {},
     "output_type": "execute_result"
    }
   ],
   "source": [
    "ML = MLmodel()\n",
    "MLpredict(ML)"
   ]
  },
  {
   "cell_type": "markdown",
   "metadata": {},
   "source": [
    "# 등록"
   ]
  },
  {
   "cell_type": "code",
   "execution_count": null,
   "metadata": {},
   "outputs": [],
   "source": [
    "name = \"cho2\"\n",
    "# 이름 입력하고 안녕하세요 3번 이상 말하기(5초 녹음)\n",
    "model,oh_encoder = gather_voice(name)"
   ]
  },
  {
   "cell_type": "code",
   "execution_count": null,
   "metadata": {},
   "outputs": [],
   "source": []
  },
  {
   "cell_type": "code",
   "execution_count": null,
   "metadata": {},
   "outputs": [],
   "source": []
  }
 ],
 "metadata": {
  "kernelspec": {
   "display_name": "kernel_pro",
   "language": "python",
   "name": "kernel_pro"
  },
  "language_info": {
   "codemirror_mode": {
    "name": "ipython",
    "version": 3
   },
   "file_extension": ".py",
   "mimetype": "text/x-python",
   "name": "python",
   "nbconvert_exporter": "python",
   "pygments_lexer": "ipython3",
   "version": "3.7.5"
  }
 },
 "nbformat": 4,
 "nbformat_minor": 4
}
